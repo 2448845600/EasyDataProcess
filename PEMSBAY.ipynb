{
 "cells": [
  {
   "cell_type": "code",
   "id": "initial_id",
   "metadata": {
    "collapsed": true,
    "ExecuteTime": {
     "end_time": "2024-05-23T11:50:43.698998Z",
     "start_time": "2024-05-23T11:50:43.695968Z"
    }
   },
   "source": [
    "import pandas as pd\n",
    "import numpy as np\n",
    "import pickle\n",
    "\n",
    "def transform(data, mean, std):\n",
    "    return (data - mean) / std\n",
    "\n",
    "def inverse_transform(data, mean, std):\n",
    "    return (data * std) + mean"
   ],
   "outputs": [],
   "execution_count": 233
  },
  {
   "metadata": {
    "ExecuteTime": {
     "end_time": "2024-05-23T11:50:43.703454Z",
     "start_time": "2024-05-23T11:50:43.699972Z"
    }
   },
   "cell_type": "code",
   "source": [
    "raw_data_path = \"raw_dataset/PEMSBAY/PEMS-BAY.h5\"\n",
    "adj_path = \"raw_dataset/PEMSBAY/adj_PEMS-BAY.pkl\"\n",
    "freq = 5 # minute"
   ],
   "id": "bef79f3b97c06399",
   "outputs": [],
   "execution_count": 234
  },
  {
   "metadata": {
    "ExecuteTime": {
     "end_time": "2024-05-23T11:50:43.869313Z",
     "start_time": "2024-05-23T11:50:43.704460Z"
    }
   },
   "cell_type": "code",
   "source": [
    "raw_data = pd.read_hdf(raw_data_path)\n",
    "raw_data.head()"
   ],
   "id": "98292564209e19e7",
   "outputs": [
    {
     "data": {
      "text/plain": [
       "sensor_id            400001  400017  400030  400040  400045  400052  400057  \\\n",
       "2017-01-01 00:00:00    71.4    67.8    70.5    67.4    68.8    66.6    66.8   \n",
       "2017-01-01 00:05:00    71.6    67.5    70.6    67.5    68.7    66.6    66.8   \n",
       "2017-01-01 00:10:00    71.6    67.6    70.2    67.4    68.7    66.1    66.8   \n",
       "2017-01-01 00:15:00    71.1    67.5    70.3    68.0    68.5    66.7    66.6   \n",
       "2017-01-01 00:20:00    71.7    67.8    70.2    68.1    68.4    66.9    66.1   \n",
       "\n",
       "sensor_id            400059  400065  400069  ...  409525  409526  409528  \\\n",
       "2017-01-01 00:00:00    68.0    66.8    69.0  ...    68.8    67.9    68.8   \n",
       "2017-01-01 00:05:00    67.8    66.5    68.2  ...    68.4    67.3    68.4   \n",
       "2017-01-01 00:10:00    67.8    66.2    67.8  ...    68.4    67.4    68.4   \n",
       "2017-01-01 00:15:00    67.7    65.9    67.8  ...    68.5    67.5    68.5   \n",
       "2017-01-01 00:20:00    67.7    66.1    67.8  ...    68.5    67.7    68.5   \n",
       "\n",
       "sensor_id            409529  413026  413845  413877  413878  414284  414694  \n",
       "2017-01-01 00:00:00    68.0    69.2    68.9    70.4    68.8    71.1    68.0  \n",
       "2017-01-01 00:05:00    67.6    70.4    68.8    70.1    68.4    70.8    67.4  \n",
       "2017-01-01 00:10:00    67.5    70.2    68.3    69.8    68.4    70.5    67.9  \n",
       "2017-01-01 00:15:00    67.5    70.4    68.7    70.2    68.4    70.8    67.6  \n",
       "2017-01-01 00:20:00    67.4    69.6    69.1    70.0    68.4    71.0    67.9  \n",
       "\n",
       "[5 rows x 325 columns]"
      ],
      "text/html": [
       "<div>\n",
       "<style scoped>\n",
       "    .dataframe tbody tr th:only-of-type {\n",
       "        vertical-align: middle;\n",
       "    }\n",
       "\n",
       "    .dataframe tbody tr th {\n",
       "        vertical-align: top;\n",
       "    }\n",
       "\n",
       "    .dataframe thead th {\n",
       "        text-align: right;\n",
       "    }\n",
       "</style>\n",
       "<table border=\"1\" class=\"dataframe\">\n",
       "  <thead>\n",
       "    <tr style=\"text-align: right;\">\n",
       "      <th>sensor_id</th>\n",
       "      <th>400001</th>\n",
       "      <th>400017</th>\n",
       "      <th>400030</th>\n",
       "      <th>400040</th>\n",
       "      <th>400045</th>\n",
       "      <th>400052</th>\n",
       "      <th>400057</th>\n",
       "      <th>400059</th>\n",
       "      <th>400065</th>\n",
       "      <th>400069</th>\n",
       "      <th>...</th>\n",
       "      <th>409525</th>\n",
       "      <th>409526</th>\n",
       "      <th>409528</th>\n",
       "      <th>409529</th>\n",
       "      <th>413026</th>\n",
       "      <th>413845</th>\n",
       "      <th>413877</th>\n",
       "      <th>413878</th>\n",
       "      <th>414284</th>\n",
       "      <th>414694</th>\n",
       "    </tr>\n",
       "  </thead>\n",
       "  <tbody>\n",
       "    <tr>\n",
       "      <th>2017-01-01 00:00:00</th>\n",
       "      <td>71.4</td>\n",
       "      <td>67.8</td>\n",
       "      <td>70.5</td>\n",
       "      <td>67.4</td>\n",
       "      <td>68.8</td>\n",
       "      <td>66.6</td>\n",
       "      <td>66.8</td>\n",
       "      <td>68.0</td>\n",
       "      <td>66.8</td>\n",
       "      <td>69.0</td>\n",
       "      <td>...</td>\n",
       "      <td>68.8</td>\n",
       "      <td>67.9</td>\n",
       "      <td>68.8</td>\n",
       "      <td>68.0</td>\n",
       "      <td>69.2</td>\n",
       "      <td>68.9</td>\n",
       "      <td>70.4</td>\n",
       "      <td>68.8</td>\n",
       "      <td>71.1</td>\n",
       "      <td>68.0</td>\n",
       "    </tr>\n",
       "    <tr>\n",
       "      <th>2017-01-01 00:05:00</th>\n",
       "      <td>71.6</td>\n",
       "      <td>67.5</td>\n",
       "      <td>70.6</td>\n",
       "      <td>67.5</td>\n",
       "      <td>68.7</td>\n",
       "      <td>66.6</td>\n",
       "      <td>66.8</td>\n",
       "      <td>67.8</td>\n",
       "      <td>66.5</td>\n",
       "      <td>68.2</td>\n",
       "      <td>...</td>\n",
       "      <td>68.4</td>\n",
       "      <td>67.3</td>\n",
       "      <td>68.4</td>\n",
       "      <td>67.6</td>\n",
       "      <td>70.4</td>\n",
       "      <td>68.8</td>\n",
       "      <td>70.1</td>\n",
       "      <td>68.4</td>\n",
       "      <td>70.8</td>\n",
       "      <td>67.4</td>\n",
       "    </tr>\n",
       "    <tr>\n",
       "      <th>2017-01-01 00:10:00</th>\n",
       "      <td>71.6</td>\n",
       "      <td>67.6</td>\n",
       "      <td>70.2</td>\n",
       "      <td>67.4</td>\n",
       "      <td>68.7</td>\n",
       "      <td>66.1</td>\n",
       "      <td>66.8</td>\n",
       "      <td>67.8</td>\n",
       "      <td>66.2</td>\n",
       "      <td>67.8</td>\n",
       "      <td>...</td>\n",
       "      <td>68.4</td>\n",
       "      <td>67.4</td>\n",
       "      <td>68.4</td>\n",
       "      <td>67.5</td>\n",
       "      <td>70.2</td>\n",
       "      <td>68.3</td>\n",
       "      <td>69.8</td>\n",
       "      <td>68.4</td>\n",
       "      <td>70.5</td>\n",
       "      <td>67.9</td>\n",
       "    </tr>\n",
       "    <tr>\n",
       "      <th>2017-01-01 00:15:00</th>\n",
       "      <td>71.1</td>\n",
       "      <td>67.5</td>\n",
       "      <td>70.3</td>\n",
       "      <td>68.0</td>\n",
       "      <td>68.5</td>\n",
       "      <td>66.7</td>\n",
       "      <td>66.6</td>\n",
       "      <td>67.7</td>\n",
       "      <td>65.9</td>\n",
       "      <td>67.8</td>\n",
       "      <td>...</td>\n",
       "      <td>68.5</td>\n",
       "      <td>67.5</td>\n",
       "      <td>68.5</td>\n",
       "      <td>67.5</td>\n",
       "      <td>70.4</td>\n",
       "      <td>68.7</td>\n",
       "      <td>70.2</td>\n",
       "      <td>68.4</td>\n",
       "      <td>70.8</td>\n",
       "      <td>67.6</td>\n",
       "    </tr>\n",
       "    <tr>\n",
       "      <th>2017-01-01 00:20:00</th>\n",
       "      <td>71.7</td>\n",
       "      <td>67.8</td>\n",
       "      <td>70.2</td>\n",
       "      <td>68.1</td>\n",
       "      <td>68.4</td>\n",
       "      <td>66.9</td>\n",
       "      <td>66.1</td>\n",
       "      <td>67.7</td>\n",
       "      <td>66.1</td>\n",
       "      <td>67.8</td>\n",
       "      <td>...</td>\n",
       "      <td>68.5</td>\n",
       "      <td>67.7</td>\n",
       "      <td>68.5</td>\n",
       "      <td>67.4</td>\n",
       "      <td>69.6</td>\n",
       "      <td>69.1</td>\n",
       "      <td>70.0</td>\n",
       "      <td>68.4</td>\n",
       "      <td>71.0</td>\n",
       "      <td>67.9</td>\n",
       "    </tr>\n",
       "  </tbody>\n",
       "</table>\n",
       "<p>5 rows × 325 columns</p>\n",
       "</div>"
      ]
     },
     "execution_count": 235,
     "metadata": {},
     "output_type": "execute_result"
    }
   ],
   "execution_count": 235
  },
  {
   "metadata": {
    "ExecuteTime": {
     "end_time": "2024-05-23T11:50:43.997158Z",
     "start_time": "2024-05-23T11:50:43.870320Z"
    }
   },
   "cell_type": "code",
   "source": [
    "# variate\n",
    "L, N = raw_data.shape\n",
    "train_len = int(L * 0.7)\n",
    "test_len = int(L * 0.2)\n",
    "val_len = L - train_len - test_len\n",
    "\n",
    "train_data = raw_data.values[0:train_len]\n",
    "mean, std = train_data.mean(axis=0), train_data.std(axis=0)\n",
    "norm_var = transform(raw_data.values, mean, std)\n",
    "\n",
    "train_len, val_len, test_len"
   ],
   "id": "37aeb0e878024d56",
   "outputs": [
    {
     "data": {
      "text/plain": [
       "(36481, 5212, 10423)"
      ]
     },
     "execution_count": 236,
     "metadata": {},
     "output_type": "execute_result"
    }
   ],
   "execution_count": 236
  },
  {
   "metadata": {
    "ExecuteTime": {
     "end_time": "2024-05-23T11:50:44.122929Z",
     "start_time": "2024-05-23T11:50:43.999164Z"
    }
   },
   "cell_type": "code",
   "source": [
    "# time marker\n",
    "tod_size = int((24 * 60) / freq) - 1\n",
    "dow_size = 6\n",
    "dom_size = 30\n",
    "doy_size = 365\n",
    "\n",
    "tod = np.array(list(map(lambda x: ((60 * x.hour + x.minute) / freq), raw_data.index))) # 0 ~ 287\n",
    "dow = np.array(raw_data.index.dayofweek) # 0 ~ 6\n",
    "dom = np.array(raw_data.index.day) - 1 # 0 ~ 30\n",
    "doy = np.array(raw_data.index.dayofyear) - 1 # 0 ~ 181\n",
    "\n",
    "time_marker = np.stack([tod, dow, dom, doy], axis=-1)\n",
    "norm_time_marker = np.stack([tod / tod_size - 0.5, dow / dow_size - 0.5, dom / dom_size - 0.5, doy / doy_size - 0.5], axis=-1)"
   ],
   "id": "af08667f788d8c6a",
   "outputs": [],
   "execution_count": 237
  },
  {
   "metadata": {
    "ExecuteTime": {
     "end_time": "2024-05-23T11:50:44.127234Z",
     "start_time": "2024-05-23T11:50:44.123935Z"
    }
   },
   "cell_type": "code",
   "source": "norm_var.shape",
   "id": "34d13138aef687db",
   "outputs": [
    {
     "data": {
      "text/plain": [
       "(52116, 325)"
      ]
     },
     "execution_count": 238,
     "metadata": {},
     "output_type": "execute_result"
    }
   ],
   "execution_count": 238
  },
  {
   "metadata": {
    "ExecuteTime": {
     "end_time": "2024-05-23T11:50:44.134733Z",
     "start_time": "2024-05-23T11:50:44.128240Z"
    }
   },
   "cell_type": "code",
   "source": [
    "# adj_mat\n",
    "with open(adj_path, 'rb') as f:\n",
    "    adj = pickle.load(f, encoding=\"bytes\")"
   ],
   "id": "5dfcf4c307f45f5e",
   "outputs": [],
   "execution_count": 239
  },
  {
   "metadata": {
    "ExecuteTime": {
     "end_time": "2024-05-23T11:50:44.246652Z",
     "start_time": "2024-05-23T11:50:44.135746Z"
    }
   },
   "cell_type": "code",
   "source": [
    "np.savez(\"../../dataset/PEMSBAY/feature.npz\", norm_var=norm_var, norm_time_marker=norm_time_marker, time_marker=time_marker)\n",
    "np.savez(\"../../dataset/PEMSBAY/var_scaler_info.npz\", mean=mean, std=std)\n",
    "np.save(\"../../dataset/PEMSBAY/adj_mat.npy\", adj[2])"
   ],
   "id": "930a434a1bf868df",
   "outputs": [],
   "execution_count": 240
  },
  {
   "metadata": {
    "ExecuteTime": {
     "end_time": "2024-05-23T11:50:44.251286Z",
     "start_time": "2024-05-23T11:50:44.247665Z"
    }
   },
   "cell_type": "code",
   "source": "train_len, val_len, test_len",
   "id": "f8be2d46d28cf545",
   "outputs": [
    {
     "data": {
      "text/plain": [
       "(36481, 5212, 10423)"
      ]
     },
     "execution_count": 241,
     "metadata": {},
     "output_type": "execute_result"
    }
   ],
   "execution_count": 241
  },
  {
   "metadata": {
    "ExecuteTime": {
     "end_time": "2024-05-23T11:50:44.259786Z",
     "start_time": "2024-05-23T11:50:44.252291Z"
    }
   },
   "cell_type": "code",
   "source": "d = np.load(\"../../dataset/PEMSBAY/feature.npz\")",
   "id": "2e91e4201ee8b7c",
   "outputs": [],
   "execution_count": 242
  },
  {
   "metadata": {
    "ExecuteTime": {
     "end_time": "2024-05-23T11:50:44.264134Z",
     "start_time": "2024-05-23T11:50:44.260791Z"
    }
   },
   "cell_type": "code",
   "source": "d.files",
   "id": "bc263e14286bee72",
   "outputs": [
    {
     "data": {
      "text/plain": [
       "['norm_var', 'norm_time_marker', 'time_marker']"
      ]
     },
     "execution_count": 243,
     "metadata": {},
     "output_type": "execute_result"
    }
   ],
   "execution_count": 243
  },
  {
   "metadata": {
    "ExecuteTime": {
     "end_time": "2024-05-23T11:50:44.267037Z",
     "start_time": "2024-05-23T11:50:44.265140Z"
    }
   },
   "cell_type": "code",
   "source": "",
   "id": "5c1cca7670786bbe",
   "outputs": [],
   "execution_count": 243
  }
 ],
 "metadata": {
  "kernelspec": {
   "display_name": "Python 3",
   "language": "python",
   "name": "python3"
  },
  "language_info": {
   "codemirror_mode": {
    "name": "ipython",
    "version": 2
   },
   "file_extension": ".py",
   "mimetype": "text/x-python",
   "name": "python",
   "nbconvert_exporter": "python",
   "pygments_lexer": "ipython2",
   "version": "2.7.6"
  }
 },
 "nbformat": 4,
 "nbformat_minor": 5
}

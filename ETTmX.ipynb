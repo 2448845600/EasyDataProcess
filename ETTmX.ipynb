{
 "cells": [
  {
   "cell_type": "code",
   "id": "initial_id",
   "metadata": {
    "collapsed": true,
    "ExecuteTime": {
     "end_time": "2024-05-23T08:14:54.044069Z",
     "start_time": "2024-05-23T08:14:54.040068Z"
    }
   },
   "source": [
    "import pandas as pd\n",
    "import numpy as np\n",
    "import pickle\n",
    "\n",
    "def transform(data, mean, std):\n",
    "    return (data - mean) / std\n",
    "\n",
    "def inverse_transform(data, mean, std):\n",
    "    return (data * std) + mean"
   ],
   "outputs": [],
   "execution_count": 22
  },
  {
   "metadata": {
    "ExecuteTime": {
     "end_time": "2024-05-23T08:14:54.048197Z",
     "start_time": "2024-05-23T08:14:54.045077Z"
    }
   },
   "cell_type": "code",
   "source": [
    "subset_name = \"ETTm1\"\n",
    "freq = 15 # 15 minute\n",
    "raw_data_path = \"raw_dataset/ETT-small/{}.csv\".format(subset_name)"
   ],
   "id": "bef79f3b97c06399",
   "outputs": [],
   "execution_count": 23
  },
  {
   "metadata": {
    "ExecuteTime": {
     "end_time": "2024-05-23T08:14:54.174493Z",
     "start_time": "2024-05-23T08:14:54.049203Z"
    }
   },
   "cell_type": "code",
   "source": [
    "raw_data = pd.read_csv(raw_data_path)\n",
    "\n",
    "# Following many previous works (e.g., Informer, Autoformer), we use the first 20 months of data, i.e., the first 14400 rows.\n",
    "raw_data = raw_data.iloc[:20*30*24*4]\n",
    "df_index = pd.to_datetime(raw_data[\"date\"].values)\n",
    "raw_data = raw_data[raw_data.columns[1:]]\n",
    "raw_data.index = df_index\n",
    "raw_data.head()"
   ],
   "id": "98292564209e19e7",
   "outputs": [
    {
     "data": {
      "text/plain": [
       "                      HUFL   HULL   MUFL   MULL   LUFL   LULL         OT\n",
       "2016-07-01 00:00:00  5.827  2.009  1.599  0.462  4.203  1.340  30.531000\n",
       "2016-07-01 00:15:00  5.760  2.076  1.492  0.426  4.264  1.401  30.459999\n",
       "2016-07-01 00:30:00  5.760  1.942  1.492  0.391  4.234  1.310  30.038000\n",
       "2016-07-01 00:45:00  5.760  1.942  1.492  0.426  4.234  1.310  27.013000\n",
       "2016-07-01 01:00:00  5.693  2.076  1.492  0.426  4.142  1.371  27.787001"
      ],
      "text/html": [
       "<div>\n",
       "<style scoped>\n",
       "    .dataframe tbody tr th:only-of-type {\n",
       "        vertical-align: middle;\n",
       "    }\n",
       "\n",
       "    .dataframe tbody tr th {\n",
       "        vertical-align: top;\n",
       "    }\n",
       "\n",
       "    .dataframe thead th {\n",
       "        text-align: right;\n",
       "    }\n",
       "</style>\n",
       "<table border=\"1\" class=\"dataframe\">\n",
       "  <thead>\n",
       "    <tr style=\"text-align: right;\">\n",
       "      <th></th>\n",
       "      <th>HUFL</th>\n",
       "      <th>HULL</th>\n",
       "      <th>MUFL</th>\n",
       "      <th>MULL</th>\n",
       "      <th>LUFL</th>\n",
       "      <th>LULL</th>\n",
       "      <th>OT</th>\n",
       "    </tr>\n",
       "  </thead>\n",
       "  <tbody>\n",
       "    <tr>\n",
       "      <th>2016-07-01 00:00:00</th>\n",
       "      <td>5.827</td>\n",
       "      <td>2.009</td>\n",
       "      <td>1.599</td>\n",
       "      <td>0.462</td>\n",
       "      <td>4.203</td>\n",
       "      <td>1.340</td>\n",
       "      <td>30.531000</td>\n",
       "    </tr>\n",
       "    <tr>\n",
       "      <th>2016-07-01 00:15:00</th>\n",
       "      <td>5.760</td>\n",
       "      <td>2.076</td>\n",
       "      <td>1.492</td>\n",
       "      <td>0.426</td>\n",
       "      <td>4.264</td>\n",
       "      <td>1.401</td>\n",
       "      <td>30.459999</td>\n",
       "    </tr>\n",
       "    <tr>\n",
       "      <th>2016-07-01 00:30:00</th>\n",
       "      <td>5.760</td>\n",
       "      <td>1.942</td>\n",
       "      <td>1.492</td>\n",
       "      <td>0.391</td>\n",
       "      <td>4.234</td>\n",
       "      <td>1.310</td>\n",
       "      <td>30.038000</td>\n",
       "    </tr>\n",
       "    <tr>\n",
       "      <th>2016-07-01 00:45:00</th>\n",
       "      <td>5.760</td>\n",
       "      <td>1.942</td>\n",
       "      <td>1.492</td>\n",
       "      <td>0.426</td>\n",
       "      <td>4.234</td>\n",
       "      <td>1.310</td>\n",
       "      <td>27.013000</td>\n",
       "    </tr>\n",
       "    <tr>\n",
       "      <th>2016-07-01 01:00:00</th>\n",
       "      <td>5.693</td>\n",
       "      <td>2.076</td>\n",
       "      <td>1.492</td>\n",
       "      <td>0.426</td>\n",
       "      <td>4.142</td>\n",
       "      <td>1.371</td>\n",
       "      <td>27.787001</td>\n",
       "    </tr>\n",
       "  </tbody>\n",
       "</table>\n",
       "</div>"
      ]
     },
     "execution_count": 24,
     "metadata": {},
     "output_type": "execute_result"
    }
   ],
   "execution_count": 24
  },
  {
   "metadata": {
    "ExecuteTime": {
     "end_time": "2024-05-23T08:14:54.179301Z",
     "start_time": "2024-05-23T08:14:54.175502Z"
    }
   },
   "cell_type": "code",
   "source": "raw_data.shape",
   "id": "a5b79e06f49b076d",
   "outputs": [
    {
     "data": {
      "text/plain": [
       "(57600, 7)"
      ]
     },
     "execution_count": 25,
     "metadata": {},
     "output_type": "execute_result"
    }
   ],
   "execution_count": 25
  },
  {
   "metadata": {
    "ExecuteTime": {
     "end_time": "2024-05-23T08:14:54.188595Z",
     "start_time": "2024-05-23T08:14:54.180311Z"
    }
   },
   "cell_type": "code",
   "source": [
    "# variate\n",
    "L, N = raw_data.shape\n",
    "train_len = int(L * 0.6)\n",
    "test_len = int(L * 0.2)\n",
    "val_len = L - train_len - test_len\n",
    "\n",
    "train_data = raw_data.values[0:train_len]\n",
    "mean, std = train_data.mean(axis=0), train_data.std(axis=0)\n",
    "norm_var = transform(raw_data.values, mean, std)\n",
    "\n",
    "train_len, val_len, test_len"
   ],
   "id": "37aeb0e878024d56",
   "outputs": [
    {
     "data": {
      "text/plain": [
       "(34560, 11520, 11520)"
      ]
     },
     "execution_count": 26,
     "metadata": {},
     "output_type": "execute_result"
    }
   ],
   "execution_count": 26
  },
  {
   "metadata": {
    "ExecuteTime": {
     "end_time": "2024-05-23T08:14:54.281962Z",
     "start_time": "2024-05-23T08:14:54.189602Z"
    }
   },
   "cell_type": "code",
   "source": [
    "# time marker\n",
    "tod_size = int((24 * 60) / freq) - 1\n",
    "dow_size = 6\n",
    "dom_size = 30\n",
    "doy_size = 365\n",
    "\n",
    "tod = np.array(list(map(lambda x: ((60 * x.hour + x.minute) / freq), raw_data.index))) # 0 ~ 287\n",
    "dow = np.array(raw_data.index.dayofweek) # 0 ~ 6\n",
    "dom = np.array(raw_data.index.day) - 1 # 0 ~ 30\n",
    "doy = np.array(raw_data.index.dayofyear) - 1 # 0 ~ 181\n",
    "\n",
    "time_marker = np.stack([tod, dow, dom, doy], axis=-1)\n",
    "norm_time_marker = np.stack([tod / tod_size - 0.5, dow / dow_size - 0.5, dom / dom_size - 0.5, doy / doy_size - 0.5], axis=-1)"
   ],
   "id": "af08667f788d8c6a",
   "outputs": [],
   "execution_count": 27
  },
  {
   "metadata": {
    "ExecuteTime": {
     "end_time": "2024-05-23T08:14:54.292466Z",
     "start_time": "2024-05-23T08:14:54.282969Z"
    }
   },
   "cell_type": "code",
   "source": [
    "np.savez(\"../../dataset/{}/feature.npz\".format(subset_name), norm_var=norm_var, norm_time_marker=norm_time_marker, time_marker=time_marker)\n",
    "np.savez(\"../../dataset/{}/var_scaler_info.npz\".format(subset_name), mean=mean, std=std)"
   ],
   "id": "f8be2d46d28cf545",
   "outputs": [],
   "execution_count": 28
  },
  {
   "metadata": {
    "ExecuteTime": {
     "end_time": "2024-05-23T08:15:23.422667Z",
     "start_time": "2024-05-23T08:15:23.417663Z"
    }
   },
   "cell_type": "code",
   "source": "norm_var.shape",
   "id": "3751c543f23dc69b",
   "outputs": [
    {
     "data": {
      "text/plain": [
       "(57600, 7)"
      ]
     },
     "execution_count": 29,
     "metadata": {},
     "output_type": "execute_result"
    }
   ],
   "execution_count": 29
  },
  {
   "metadata": {},
   "cell_type": "code",
   "outputs": [],
   "execution_count": null,
   "source": "",
   "id": "d7ea2f832703db84"
  }
 ],
 "metadata": {
  "kernelspec": {
   "display_name": "Python 3",
   "language": "python",
   "name": "python3"
  },
  "language_info": {
   "codemirror_mode": {
    "name": "ipython",
    "version": 2
   },
   "file_extension": ".py",
   "mimetype": "text/x-python",
   "name": "python",
   "nbconvert_exporter": "python",
   "pygments_lexer": "ipython2",
   "version": "2.7.6"
  }
 },
 "nbformat": 4,
 "nbformat_minor": 5
}

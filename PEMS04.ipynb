{
 "cells": [
  {
   "cell_type": "code",
   "id": "initial_id",
   "metadata": {
    "collapsed": true,
    "ExecuteTime": {
     "end_time": "2024-05-26T03:06:00.528725Z",
     "start_time": "2024-05-26T03:06:00.525203Z"
    }
   },
   "source": [
    "import pandas as pd\n",
    "import numpy as np\n",
    "import pickle\n",
    "\n",
    "def transform(data, mean, std):\n",
    "    return (data - mean) / std\n",
    "\n",
    "def inverse_transform(data, mean, std):\n",
    "    return (data * std) + mean"
   ],
   "outputs": [],
   "execution_count": 58
  },
  {
   "metadata": {
    "ExecuteTime": {
     "end_time": "2024-05-26T03:06:00.533167Z",
     "start_time": "2024-05-26T03:06:00.530235Z"
    }
   },
   "cell_type": "code",
   "source": [
    "raw_data_path = \"raw_dataset/PEMS04/PEMS04.npz\"\n",
    "adj_path = \"raw_dataset/PEMS04/adj_PEMS04.pkl\"\n",
    "freq = 5 # minute"
   ],
   "id": "bef79f3b97c06399",
   "outputs": [],
   "execution_count": 59
  },
  {
   "metadata": {
    "ExecuteTime": {
     "end_time": "2024-05-26T03:06:00.858977Z",
     "start_time": "2024-05-26T03:06:00.534173Z"
    }
   },
   "cell_type": "code",
   "source": "np.load(raw_data_path)['data'].shape",
   "id": "b056aad067d9e73b",
   "outputs": [
    {
     "data": {
      "text/plain": [
       "(16992, 307, 3)"
      ]
     },
     "execution_count": 60,
     "metadata": {},
     "output_type": "execute_result"
    }
   ],
   "execution_count": 60
  },
  {
   "metadata": {
    "ExecuteTime": {
     "end_time": "2024-05-26T03:06:01.178422Z",
     "start_time": "2024-05-26T03:06:00.859983Z"
    }
   },
   "cell_type": "code",
   "source": [
    "raw_data = np.load(raw_data_path)['data'][..., 0]\n",
    "raw_data = pd.DataFrame(raw_data, index=pd.date_range('2018-01-01',periods=16992, freq=\"5min\"))\n",
    "raw_data.head()"
   ],
   "id": "98292564209e19e7",
   "outputs": [
    {
     "data": {
      "text/plain": [
       "                       0     1      2     3     4     5     6     7     8    \\\n",
       "2018-01-01 00:00:00   62.0  56.0   90.0  32.0  19.0  68.0  24.0  24.0  31.0   \n",
       "2018-01-01 00:05:00   61.0  40.0   94.0  25.0  16.0  64.0  22.0   7.0  29.0   \n",
       "2018-01-01 00:10:00   71.0  28.0   79.0  36.0   9.0  60.0  25.0  11.0  25.0   \n",
       "2018-01-01 00:15:00   86.0  47.0   94.0  46.0  11.0  58.0  35.0  17.0  28.0   \n",
       "2018-01-01 00:20:00  103.0  36.0  154.0  68.0   9.0  56.0  56.0  37.0  36.0   \n",
       "\n",
       "                      9    ...   297    298   299    300   301   302    303  \\\n",
       "2018-01-01 00:00:00  31.0  ...   5.0   86.0  54.0   54.0  62.0  37.0   90.0   \n",
       "2018-01-01 00:05:00  33.0  ...   0.0   86.0  46.0   41.0  59.0  38.0   91.0   \n",
       "2018-01-01 00:10:00  46.0  ...   0.0   67.0  59.0   58.0  59.0  34.0   56.0   \n",
       "2018-01-01 00:15:00  46.0  ...  22.0  101.0  82.0   75.0  74.0  75.0   42.0   \n",
       "2018-01-01 00:20:00  55.0  ...   0.0   97.0  88.0  109.0  90.0  61.0  127.0   \n",
       "\n",
       "                       304   305    306  \n",
       "2018-01-01 00:00:00   56.0  48.0   38.0  \n",
       "2018-01-01 00:05:00   51.0  30.0   35.0  \n",
       "2018-01-01 00:10:00   67.0  31.0   45.0  \n",
       "2018-01-01 00:15:00  126.0  64.0   81.0  \n",
       "2018-01-01 00:20:00  200.0  63.0  104.0  \n",
       "\n",
       "[5 rows x 307 columns]"
      ],
      "text/html": [
       "<div>\n",
       "<style scoped>\n",
       "    .dataframe tbody tr th:only-of-type {\n",
       "        vertical-align: middle;\n",
       "    }\n",
       "\n",
       "    .dataframe tbody tr th {\n",
       "        vertical-align: top;\n",
       "    }\n",
       "\n",
       "    .dataframe thead th {\n",
       "        text-align: right;\n",
       "    }\n",
       "</style>\n",
       "<table border=\"1\" class=\"dataframe\">\n",
       "  <thead>\n",
       "    <tr style=\"text-align: right;\">\n",
       "      <th></th>\n",
       "      <th>0</th>\n",
       "      <th>1</th>\n",
       "      <th>2</th>\n",
       "      <th>3</th>\n",
       "      <th>4</th>\n",
       "      <th>5</th>\n",
       "      <th>6</th>\n",
       "      <th>7</th>\n",
       "      <th>8</th>\n",
       "      <th>9</th>\n",
       "      <th>...</th>\n",
       "      <th>297</th>\n",
       "      <th>298</th>\n",
       "      <th>299</th>\n",
       "      <th>300</th>\n",
       "      <th>301</th>\n",
       "      <th>302</th>\n",
       "      <th>303</th>\n",
       "      <th>304</th>\n",
       "      <th>305</th>\n",
       "      <th>306</th>\n",
       "    </tr>\n",
       "  </thead>\n",
       "  <tbody>\n",
       "    <tr>\n",
       "      <th>2018-01-01 00:00:00</th>\n",
       "      <td>62.0</td>\n",
       "      <td>56.0</td>\n",
       "      <td>90.0</td>\n",
       "      <td>32.0</td>\n",
       "      <td>19.0</td>\n",
       "      <td>68.0</td>\n",
       "      <td>24.0</td>\n",
       "      <td>24.0</td>\n",
       "      <td>31.0</td>\n",
       "      <td>31.0</td>\n",
       "      <td>...</td>\n",
       "      <td>5.0</td>\n",
       "      <td>86.0</td>\n",
       "      <td>54.0</td>\n",
       "      <td>54.0</td>\n",
       "      <td>62.0</td>\n",
       "      <td>37.0</td>\n",
       "      <td>90.0</td>\n",
       "      <td>56.0</td>\n",
       "      <td>48.0</td>\n",
       "      <td>38.0</td>\n",
       "    </tr>\n",
       "    <tr>\n",
       "      <th>2018-01-01 00:05:00</th>\n",
       "      <td>61.0</td>\n",
       "      <td>40.0</td>\n",
       "      <td>94.0</td>\n",
       "      <td>25.0</td>\n",
       "      <td>16.0</td>\n",
       "      <td>64.0</td>\n",
       "      <td>22.0</td>\n",
       "      <td>7.0</td>\n",
       "      <td>29.0</td>\n",
       "      <td>33.0</td>\n",
       "      <td>...</td>\n",
       "      <td>0.0</td>\n",
       "      <td>86.0</td>\n",
       "      <td>46.0</td>\n",
       "      <td>41.0</td>\n",
       "      <td>59.0</td>\n",
       "      <td>38.0</td>\n",
       "      <td>91.0</td>\n",
       "      <td>51.0</td>\n",
       "      <td>30.0</td>\n",
       "      <td>35.0</td>\n",
       "    </tr>\n",
       "    <tr>\n",
       "      <th>2018-01-01 00:10:00</th>\n",
       "      <td>71.0</td>\n",
       "      <td>28.0</td>\n",
       "      <td>79.0</td>\n",
       "      <td>36.0</td>\n",
       "      <td>9.0</td>\n",
       "      <td>60.0</td>\n",
       "      <td>25.0</td>\n",
       "      <td>11.0</td>\n",
       "      <td>25.0</td>\n",
       "      <td>46.0</td>\n",
       "      <td>...</td>\n",
       "      <td>0.0</td>\n",
       "      <td>67.0</td>\n",
       "      <td>59.0</td>\n",
       "      <td>58.0</td>\n",
       "      <td>59.0</td>\n",
       "      <td>34.0</td>\n",
       "      <td>56.0</td>\n",
       "      <td>67.0</td>\n",
       "      <td>31.0</td>\n",
       "      <td>45.0</td>\n",
       "    </tr>\n",
       "    <tr>\n",
       "      <th>2018-01-01 00:15:00</th>\n",
       "      <td>86.0</td>\n",
       "      <td>47.0</td>\n",
       "      <td>94.0</td>\n",
       "      <td>46.0</td>\n",
       "      <td>11.0</td>\n",
       "      <td>58.0</td>\n",
       "      <td>35.0</td>\n",
       "      <td>17.0</td>\n",
       "      <td>28.0</td>\n",
       "      <td>46.0</td>\n",
       "      <td>...</td>\n",
       "      <td>22.0</td>\n",
       "      <td>101.0</td>\n",
       "      <td>82.0</td>\n",
       "      <td>75.0</td>\n",
       "      <td>74.0</td>\n",
       "      <td>75.0</td>\n",
       "      <td>42.0</td>\n",
       "      <td>126.0</td>\n",
       "      <td>64.0</td>\n",
       "      <td>81.0</td>\n",
       "    </tr>\n",
       "    <tr>\n",
       "      <th>2018-01-01 00:20:00</th>\n",
       "      <td>103.0</td>\n",
       "      <td>36.0</td>\n",
       "      <td>154.0</td>\n",
       "      <td>68.0</td>\n",
       "      <td>9.0</td>\n",
       "      <td>56.0</td>\n",
       "      <td>56.0</td>\n",
       "      <td>37.0</td>\n",
       "      <td>36.0</td>\n",
       "      <td>55.0</td>\n",
       "      <td>...</td>\n",
       "      <td>0.0</td>\n",
       "      <td>97.0</td>\n",
       "      <td>88.0</td>\n",
       "      <td>109.0</td>\n",
       "      <td>90.0</td>\n",
       "      <td>61.0</td>\n",
       "      <td>127.0</td>\n",
       "      <td>200.0</td>\n",
       "      <td>63.0</td>\n",
       "      <td>104.0</td>\n",
       "    </tr>\n",
       "  </tbody>\n",
       "</table>\n",
       "<p>5 rows × 307 columns</p>\n",
       "</div>"
      ]
     },
     "execution_count": 61,
     "metadata": {},
     "output_type": "execute_result"
    }
   ],
   "execution_count": 61
  },
  {
   "metadata": {
    "ExecuteTime": {
     "end_time": "2024-05-26T03:06:01.246472Z",
     "start_time": "2024-05-26T03:06:01.179427Z"
    }
   },
   "cell_type": "code",
   "source": [
    "# variate\n",
    "L, N = raw_data.shape\n",
    "train_len = int(L * 0.6)\n",
    "test_len = int(L * 0.2)\n",
    "val_len = L - train_len - test_len\n",
    "\n",
    "train_data = raw_data.values[0:train_len]\n",
    "mean, std = train_data.mean(axis=0), train_data.std(axis=0)\n",
    "norm_var = transform(raw_data.values, mean, std)\n",
    "\n",
    "train_len, val_len, test_len"
   ],
   "id": "37aeb0e878024d56",
   "outputs": [
    {
     "data": {
      "text/plain": [
       "(10195, 3399, 3398)"
      ]
     },
     "execution_count": 62,
     "metadata": {},
     "output_type": "execute_result"
    }
   ],
   "execution_count": 62
  },
  {
   "metadata": {
    "ExecuteTime": {
     "end_time": "2024-05-26T03:06:01.251794Z",
     "start_time": "2024-05-26T03:06:01.248477Z"
    }
   },
   "cell_type": "code",
   "source": "raw_data.index[0].dayofweek",
   "id": "84333323fd8bd013",
   "outputs": [
    {
     "data": {
      "text/plain": [
       "0"
      ]
     },
     "execution_count": 63,
     "metadata": {},
     "output_type": "execute_result"
    }
   ],
   "execution_count": 63
  },
  {
   "metadata": {
    "ExecuteTime": {
     "end_time": "2024-05-26T03:06:01.336992Z",
     "start_time": "2024-05-26T03:06:01.252799Z"
    }
   },
   "cell_type": "code",
   "source": [
    "# time marker\n",
    "tod_size = int((24 * 60) / freq) - 1\n",
    "dow_size = 6\n",
    "dom_size = 30\n",
    "doy_size = 365\n",
    "\n",
    "tod = np.array(list(map(lambda x: ((60 * x.hour + x.minute) / freq), raw_data.index))) # 0 ~ 287\n",
    "dow = np.array(raw_data.index.dayofweek) # 0 ~ 6\n",
    "dom = np.array(raw_data.index.day) - 1 # 0 ~ 30\n",
    "doy = np.array(raw_data.index.dayofyear) - 1 # 0 ~ 181\n",
    "\n",
    "time_marker = np.stack([tod, dow, dom, doy], axis=-1)\n",
    "norm_time_marker = np.stack([tod / tod_size - 0.5, dow / dow_size - 0.5, dom / dom_size - 0.5, doy / doy_size - 0.5], axis=-1)"
   ],
   "id": "af08667f788d8c6a",
   "outputs": [],
   "execution_count": 64
  },
  {
   "metadata": {
    "ExecuteTime": {
     "end_time": "2024-05-26T03:06:01.342239Z",
     "start_time": "2024-05-26T03:06:01.337997Z"
    }
   },
   "cell_type": "code",
   "source": "norm_var.shape",
   "id": "34d13138aef687db",
   "outputs": [
    {
     "data": {
      "text/plain": [
       "(16992, 307)"
      ]
     },
     "execution_count": 65,
     "metadata": {},
     "output_type": "execute_result"
    }
   ],
   "execution_count": 65
  },
  {
   "metadata": {
    "ExecuteTime": {
     "end_time": "2024-05-26T03:06:01.346641Z",
     "start_time": "2024-05-26T03:06:01.343248Z"
    }
   },
   "cell_type": "code",
   "source": [
    "# adj_mat\n",
    "with open(adj_path, 'rb') as f:\n",
    "    adj = pickle.load(f, encoding=\"bytes\")"
   ],
   "id": "5dfcf4c307f45f5e",
   "outputs": [],
   "execution_count": 66
  },
  {
   "metadata": {
    "ExecuteTime": {
     "end_time": "2024-05-26T03:06:01.388869Z",
     "start_time": "2024-05-26T03:06:01.347646Z"
    }
   },
   "cell_type": "code",
   "source": [
    "np.savez(\"../../dataset/PEMS04/feature.npz\", norm_var=norm_var, norm_time_marker=norm_time_marker, time_marker=time_marker)\n",
    "np.savez(\"../../dataset/PEMS04/var_scaler_info.npz\", mean=mean, std=std)\n",
    "np.save(\"../../dataset/PEMS04/adj_mat.npy\", adj[2])"
   ],
   "id": "930a434a1bf868df",
   "outputs": [],
   "execution_count": 67
  },
  {
   "metadata": {
    "ExecuteTime": {
     "end_time": "2024-05-26T03:06:01.393818Z",
     "start_time": "2024-05-26T03:06:01.389875Z"
    }
   },
   "cell_type": "code",
   "source": "train_len, val_len, test_len",
   "id": "f8be2d46d28cf545",
   "outputs": [
    {
     "data": {
      "text/plain": [
       "(10195, 3399, 3398)"
      ]
     },
     "execution_count": 68,
     "metadata": {},
     "output_type": "execute_result"
    }
   ],
   "execution_count": 68
  },
  {
   "metadata": {
    "ExecuteTime": {
     "end_time": "2024-05-26T03:06:01.403423Z",
     "start_time": "2024-05-26T03:06:01.394824Z"
    }
   },
   "cell_type": "code",
   "source": "d = np.load(\"../../dataset/PEMS04/feature.npz\")",
   "id": "2e91e4201ee8b7c",
   "outputs": [],
   "execution_count": 69
  },
  {
   "metadata": {
    "ExecuteTime": {
     "end_time": "2024-05-26T03:06:01.408026Z",
     "start_time": "2024-05-26T03:06:01.404430Z"
    }
   },
   "cell_type": "code",
   "source": "d.files",
   "id": "bc263e14286bee72",
   "outputs": [
    {
     "data": {
      "text/plain": [
       "['norm_var', 'norm_time_marker', 'time_marker']"
      ]
     },
     "execution_count": 70,
     "metadata": {},
     "output_type": "execute_result"
    }
   ],
   "execution_count": 70
  },
  {
   "metadata": {
    "ExecuteTime": {
     "end_time": "2024-05-26T03:06:01.410849Z",
     "start_time": "2024-05-26T03:06:01.408395Z"
    }
   },
   "cell_type": "code",
   "source": "",
   "id": "5c1cca7670786bbe",
   "outputs": [],
   "execution_count": 70
  }
 ],
 "metadata": {
  "kernelspec": {
   "display_name": "Python 3",
   "language": "python",
   "name": "python3"
  },
  "language_info": {
   "codemirror_mode": {
    "name": "ipython",
    "version": 2
   },
   "file_extension": ".py",
   "mimetype": "text/x-python",
   "name": "python",
   "nbconvert_exporter": "python",
   "pygments_lexer": "ipython2",
   "version": "2.7.6"
  }
 },
 "nbformat": 4,
 "nbformat_minor": 5
}
